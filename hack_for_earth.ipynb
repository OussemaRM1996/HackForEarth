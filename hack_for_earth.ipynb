{
 "cells": [
  {
   "cell_type": "markdown",
   "metadata": {},
   "source": [
    "# import required libraries"
   ]
  },
  {
   "cell_type": "code",
   "execution_count": null,
   "metadata": {
    "colab": {},
    "colab_type": "code",
    "id": "FjeOpeRrWAwz"
   },
   "outputs": [],
   "source": [
    "import pandas as  pd \n",
    "import numpy as np \n",
    "import matplotlib.pyplot as plt \n",
    "import lightgbm as lgb\n",
    "from sklearn.model_selection import train_test_split\n",
    "from sklearn import preprocessing\n",
    "from xgboost import XGBRegressor\n",
    "from IPython.display import FileLink\n",
    "from datetime import datetime"
   ]
  },
  {
   "cell_type": "markdown",
   "metadata": {},
   "source": [
    "# Load train and test data and explore them"
   ]
  },
  {
   "cell_type": "code",
   "execution_count": null,
   "metadata": {
    "colab": {},
    "colab_type": "code",
    "id": "xdF8nXhVWAw4"
   },
   "outputs": [],
   "source": [
    "train=pd.read_csv(\"./data/train.csv\")\n",
    "category=pd.read_csv('./data/CaptureSite_category.csv')\n",
    "sample_sub=pd.read_csv(\"./data/Sample_sub.csv\")"
   ]
  },
  {
   "cell_type": "code",
   "execution_count": null,
   "metadata": {
    "colab": {},
    "colab_type": "code",
    "id": "gSUmurKhWAw9",
    "outputId": "7a009b78-50e1-4dbf-af6c-2b615d07c4bf"
   },
   "outputs": [],
   "source": [
    "sample_sub.head()"
   ]
  },
  {
   "cell_type": "code",
   "execution_count": null,
   "metadata": {
    "colab": {},
    "colab_type": "code",
    "id": "vLiRz0fdWAxD",
    "outputId": "4c7055cf-9987-412a-e2f1-32d9a2907917"
   },
   "outputs": [],
   "source": [
    "train.head()"
   ]
  },
  {
   "cell_type": "code",
   "execution_count": null,
   "metadata": {
    "colab": {},
    "colab_type": "code",
    "id": "vLiRz0fdWAxD",
    "outputId": "4c7055cf-9987-412a-e2f1-32d9a2907917"
   },
   "outputs": [],
   "source": [
    "category.head()"
   ]
  },
  {
   "cell_type": "markdown",
   "metadata": {},
   "source": [
    "# Data preprocessing and feature engineering"
   ]
  },
  {
   "cell_type": "code",
   "execution_count": null,
   "metadata": {
    "colab": {},
    "colab_type": "code",
    "id": "o0B1yYoGWAxH"
   },
   "outputs": [],
   "source": [
    "# split Id to Year woy and CaptureSite\n",
    "sample_sub[\"year_woy\"]=(sample_sub.ID.apply(lambda x: x.split(\"_\")[-1])).astype(int)\n",
    "sample_sub[\"CaptureSite\"]=sample_sub.ID.apply(lambda x: (\"_\").join(x.split(\"_\")[0:-1]))"
   ]
  },
  {
   "cell_type": "code",
   "execution_count": null,
   "metadata": {
    "colab": {},
    "colab_type": "code",
    "id": "Wo06skJtWAxK",
    "outputId": "c4420503-bf34-4d98-c461-a24ce8b92f41"
   },
   "outputs": [],
   "source": [
    "# Create Time features from Date_TimeCaught \n",
    "train[\"Date_TimeCaught\"]=pd.to_datetime(train[\"Date_TimeCaught\"])\n",
    "train[\"year\"]=train.Date_TimeCaught.dt.year\n",
    "train[\"week_of_year\"]=train.Date_TimeCaught.dt.weekofyear\n",
    "train[\"year_woy\"]=train.year*100+train.week_of_year"
   ]
  },
  {
   "cell_type": "code",
   "execution_count": null,
   "metadata": {
    "colab": {},
    "colab_type": "code",
    "id": "T-_ygwnXWAxR",
    "outputId": "c9aa5f80-52d6-4270-c8bb-8458fb53d2d0"
   },
   "outputs": [],
   "source": [
    "keys=pd.concat([train[[\"year_woy\",\"CaptureSite\"]],sample_sub[[\"year_woy\",\"CaptureSite\"]]])\n",
    "CaptureSite_min_year_woy=keys.groupby(\"CaptureSite\").year_woy.min().rename(\"year_woy\").reset_index()\n",
    "CaptureSite_min_year_woy.head()"
   ]
  },
  {
   "cell_type": "code",
   "execution_count": null,
   "metadata": {
    "colab": {
     "base_uri": "https://localhost:8080/",
     "height": 275
    },
    "colab_type": "code",
    "executionInfo": {
     "elapsed": 1235,
     "status": "error",
     "timestamp": 1575118664310,
     "user": {
      "displayName": "mohamed jedidi",
      "photoUrl": "https://lh3.googleusercontent.com/a-/AAuE7mAz26JdnHFt00B4BlTaKAoBIqZtcYIkot1c370R=s64",
      "userId": "16402067498517468626"
     },
     "user_tz": -60
    },
    "id": "tpbx4ikgWAxU",
    "outputId": "e65da3dc-bfe1-4c03-a19f-93d8d196a49b"
   },
   "outputs": [],
   "source": [
    "range_year_woy=pd.DataFrame()\n",
    "range_year_woy[\"Date_TimeCaught\"]=pd.date_range(start=train.Date_TimeCaught.min(),end=datetime(2019,10,31))\n",
    "range_year_woy[\"year\"]=range_year_woy.Date_TimeCaught.dt.year\n",
    "range_year_woy[\"week_of_year\"]=range_year_woy.Date_TimeCaught.dt.weekofyear\n",
    "range_year_woy[\"year_woy\"]=range_year_woy.year*100+range_year_woy.week_of_year\n",
    "range_year_woy.drop_duplicates([\"year_woy\"],inplace=True)"
   ]
  },
  {
   "cell_type": "code",
   "execution_count": null,
   "metadata": {
    "colab": {},
    "colab_type": "code",
    "id": "F363yeDIWAxY",
    "outputId": "0d3f724d-b8fd-4a34-90a9-1893b69fddf6"
   },
   "outputs": [],
   "source": [
    "final_data=[]\n",
    "for site , year_woy in zip(CaptureSite_min_year_woy.CaptureSite.values,CaptureSite_min_year_woy.year_woy.values) :\n",
    "    one_site_df=range_year_woy[range_year_woy.year_woy>=year_woy]\n",
    "    one_site_df[\"CaptureSite\"]=site\n",
    "    final_data.append(one_site_df)\n",
    "final_data=pd.concat(final_data)"
   ]
  },
  {
   "cell_type": "code",
   "execution_count": null,
   "metadata": {
    "colab": {},
    "colab_type": "code",
    "id": "HUtys27yWAxf"
   },
   "outputs": [],
   "source": [
    "Target=train.groupby([\"year_woy\",\"CaptureSite\"]).CaptureSite.count().rename(\"Capture_Number\").reset_index()\n",
    "final_data=final_data.merge(Target,on=[\"year_woy\",\"CaptureSite\"],how=\"left\")\n",
    "final_data.Capture_Number.fillna(0,inplace=True)"
   ]
  },
  {
   "cell_type": "code",
   "execution_count": null,
   "metadata": {},
   "outputs": [],
   "source": [
    "final_data[\"catching_day\"]=final_data.Date_TimeCaught.dt.day\n",
    "final_data[\"day_of_week\"]=final_data.Date_TimeCaught.dt.weekday\n",
    "final_data[\"catching_month\"]=final_data.Date_TimeCaught.dt.month"
   ]
  },
  {
   "cell_type": "code",
   "execution_count": null,
   "metadata": {},
   "outputs": [],
   "source": [
    "final_data['saison']=np.zeros(final_data.shape[0])\n",
    "for i in range(train.shape[0]):\n",
    "    if final_data['catching_month'][i] in ['01','02','12']:\n",
    "        final_data['saison']= 'hiver'\n",
    "    elif final_data['catching_month'][i] in ['03','04','05']:\n",
    "        final_data['saison']='printemps'\n",
    "    elif final_data['catching_month'][i] in ['06','07','08']:\n",
    "        final_data['saison']='ete'\n",
    "    else:\n",
    "        final_data['saison']='automne'"
   ]
  },
  {
   "cell_type": "code",
   "execution_count": null,
   "metadata": {},
   "outputs": [],
   "source": [
    "df=pd.read_csv(\"./data/train.csv\")"
   ]
  },
  {
   "cell_type": "code",
   "execution_count": null,
   "metadata": {},
   "outputs": [],
   "source": [
    "df.head()"
   ]
  },
  {
   "cell_type": "code",
   "execution_count": null,
   "metadata": {},
   "outputs": [],
   "source": [
    "a = pd.DataFrame(df.groupby('CaptureSite').agg({'Researcher':['count']}))\n",
    "b = pd.DataFrame(df.groupby('CaptureSite').agg({'Fisher':['count']}))\n",
    "\n",
    "final_data = final_data.merge(a,on='CaptureSite')\n",
    "final_data = final_data.merge(b,on='CaptureSite')"
   ]
  },
  {
   "cell_type": "code",
   "execution_count": null,
   "metadata": {},
   "outputs": [],
   "source": [
    "c = pd.DataFrame(category.groupby('CaptureSite').agg({'CaptureSiteCategory':['count']}))\n",
    "d = pd.DataFrame(category.groupby('CaptureSite').agg({'Type':['count']}))\n",
    "\n",
    "final_data = final_data.merge(category,on='CaptureSite')\n",
    "final_data = final_data.merge(c,on='CaptureSite')\n",
    "final_data = final_data.merge(d,on='CaptureSite')"
   ]
  },
  {
   "cell_type": "code",
   "execution_count": null,
   "metadata": {},
   "outputs": [],
   "source": [
    "del final_data['Date_TimeCaught']"
   ]
  },
  {
   "cell_type": "code",
   "execution_count": null,
   "metadata": {},
   "outputs": [],
   "source": [
    "e = pd.DataFrame(final_data.groupby('saison').agg({'Capture_Number':['count']}))"
   ]
  },
  {
   "cell_type": "code",
   "execution_count": null,
   "metadata": {},
   "outputs": [],
   "source": [
    "final_data = final_data.merge(e,on='saison')"
   ]
  },
  {
   "cell_type": "code",
   "execution_count": null,
   "metadata": {},
   "outputs": [],
   "source": [
    "final_data.head()"
   ]
  },
  {
   "cell_type": "code",
   "execution_count": null,
   "metadata": {},
   "outputs": [],
   "source": [
    "for i in range(len(final_data)):\n",
    "    final_data.loc[i, 'capturesite_number'] = int(final_data.CaptureSite.values[i].split('_')[1])"
   ]
  },
  {
   "cell_type": "code",
   "execution_count": null,
   "metadata": {},
   "outputs": [],
   "source": [
    "final_data['CaptureSite_FE'] = final_data['CaptureSite'].map(final_data['CaptureSite'].value_counts(True))"
   ]
  },
  {
   "cell_type": "markdown",
   "metadata": {},
   "source": [
    "# Label encoding and splitting data to train and test data"
   ]
  },
  {
   "cell_type": "code",
   "execution_count": null,
   "metadata": {},
   "outputs": [],
   "source": [
    "pd.get_dummies(final_data,columns=['week_of_year'])\n",
    "pd.get_dummies(final_data,columns=['CaptureSite'])\n",
    "pd.get_dummies(final_data,columns=['saison'])"
   ]
  },
  {
   "cell_type": "code",
   "execution_count": null,
   "metadata": {},
   "outputs": [],
   "source": [
    "for f in final_data.columns:\n",
    "    if final_data[f].dtype=='object'  : \n",
    "        lbl = preprocessing.LabelEncoder()\n",
    "        lbl.fit(list(final_data[f].values))  \n",
    "        final_data[f] = lbl.transform(list(final_data[f].values)) "
   ]
  },
  {
   "cell_type": "code",
   "execution_count": null,
   "metadata": {},
   "outputs": [],
   "source": [
    "train=final_data[final_data.year<2019]"
   ]
  },
  {
   "cell_type": "code",
   "execution_count": null,
   "metadata": {},
   "outputs": [],
   "source": [
    "test=final_data[final_data.year==2019]"
   ]
  },
  {
   "cell_type": "code",
   "execution_count": null,
   "metadata": {},
   "outputs": [],
   "source": [
    "del test['Capture_Number']"
   ]
  },
  {
   "cell_type": "code",
   "execution_count": null,
   "metadata": {},
   "outputs": [],
   "source": [
    "y_train=train['Capture_Number']\n",
    "X_train=train.drop('Capture_Number',axis=1)"
   ]
  },
  {
   "cell_type": "code",
   "execution_count": null,
   "metadata": {},
   "outputs": [],
   "source": [
    "x_train, x_val, y_train, y_val = train_test_split(X_train, y_train, test_size=0.33, random_state=18)\n",
    "lgb_train = lgb.Dataset(data=x_train, label=y_train)\n",
    "lgb_eval = lgb.Dataset(data=x_val, label=y_val)"
   ]
  },
  {
   "cell_type": "code",
   "execution_count": null,
   "metadata": {},
   "outputs": [],
   "source": [
    "final_data.head()"
   ]
  },
  {
   "cell_type": "markdown",
   "metadata": {},
   "source": [
    "# Preparing and training an lgbm model"
   ]
  },
  {
   "cell_type": "code",
   "execution_count": null,
   "metadata": {},
   "outputs": [],
   "source": [
    "params = {'task': 'train', 'boosting_type': 'gbdt', 'objective': 'regression', 'metric': 'rmse', \n",
    "          'learning_rate': 0.024, 'num_leaves': 80, 'verbose': 0 ,\n",
    "          'reg_alpha':0.4, 'reg_lambda':0.4, 'max_depth':-1,'lambda':0.03,\n",
    "          'feature_fraction':0.4,'bagging_fraction':0.4, 'min_data_in_leaf':120,'n_estimators':1000}\n",
    "model1 = lgb.train(params, lgb_train, valid_sets=lgb_eval, early_stopping_rounds=80, verbose_eval=80)"
   ]
  },
  {
   "cell_type": "code",
   "execution_count": null,
   "metadata": {},
   "outputs": [
    {
     "data": {
      "text/plain": [
       "XGBRegressor(base_score=0.5, booster='gbtree', colsample_bylevel=1,\n",
       "       colsample_bynode=1, colsample_bytree=1, eta=0.3, gamma=10,\n",
       "       importance_type='gain', learning_rate=0.07, max_delta_step=0,\n",
       "       max_depth=2, min_child_weight=300, missing=None, n_estimators=1000,\n",
       "       n_jobs=1, nthread=None, objective='reg:linear', random_state=0,\n",
       "       reg_alpha=0, reg_lambda=1, scale_pos_weight=1, seed=42, silent=None,\n",
       "       subsample=0.8, verbosity=1)"
      ]
     },
     "execution_count": 1438,
     "metadata": {},
     "output_type": "execute_result"
    }
   ],
   "source": [
    "model2 = XGBRegressor(\n",
    "    max_depth=2,\n",
    "    learning_rate=0.07,\n",
    "    n_estimators=1000,\n",
    "    min_child_weight=300, \n",
    "    colsample_bytree=1, \n",
    "    subsample=0.8, \n",
    "    eta=0.3,    \n",
    "    seed=42,\n",
    "gamma=10\n",
    ")\n",
    "model2.fit(\n",
    "    x_train, \n",
    "    y_train, \n",
    "    eval_metric=\"rmse\", \n",
    "    eval_set=[(x_train, y_train), (x_val, y_val)], \n",
    "    verbose=True, \n",
    "    early_stopping_rounds = 10)"
   ]
  },
  {
   "cell_type": "markdown",
   "metadata": {},
   "source": [
    "# Making predictions using the trained model"
   ]
  },
  {
   "cell_type": "code",
   "execution_count": null,
   "metadata": {},
   "outputs": [],
   "source": [
    "test_preds1= model.predict(test)\n",
    "test_preds2= model2.predict(test)\n",
    "final_predictions = (test_preds1 + test_preds2)/2"
   ]
  },
  {
   "cell_type": "code",
   "execution_count": null,
   "metadata": {},
   "outputs": [],
   "source": [
    "sample_sub['Capture_Number']=final_predictions"
   ]
  },
  {
   "cell_type": "markdown",
   "metadata": {},
   "source": [
    "# Creating a submission"
   ]
  },
  {
   "cell_type": "code",
   "execution_count": null,
   "metadata": {},
   "outputs": [],
   "source": [
    "def create_submission(submission_file, submission_name):\n",
    "    submission_file.to_csv(submission_name+\".csv\" , index=False)\n",
    "    return FileLink(submission_name+\".csv\")"
   ]
  },
  {
   "cell_type": "code",
   "execution_count": null,
   "metadata": {},
   "outputs": [],
   "source": [
    "create_submission(sample_sub, 'hfe16')"
   ]
  }
 ],
 "metadata": {
  "colab": {
   "name": "data_proc.ipynb",
   "provenance": []
  },
  "kernelspec": {
   "display_name": "Python 3 (ipykernel)",
   "language": "python",
   "name": "python3"
  },
  "language_info": {
   "codemirror_mode": {
    "name": "ipython",
    "version": 3
   },
   "file_extension": ".py",
   "mimetype": "text/x-python",
   "name": "python",
   "nbconvert_exporter": "python",
   "pygments_lexer": "ipython3",
   "version": "3.12.7"
  }
 },
 "nbformat": 4,
 "nbformat_minor": 4
}
